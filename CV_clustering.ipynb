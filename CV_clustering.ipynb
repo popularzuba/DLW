{
 "cells": [
  {
   "cell_type": "code",
   "execution_count": 175,
   "metadata": {
    "pycharm": {
     "name": "#%%\n"
    }
   },
   "outputs": [],
   "source": [
    "import matplotlib\n",
    "import numpy as np\n",
    "import pandas as pd\n",
    "import seaborn as sb\n",
    "import torch\n",
    "import matplotlib.pyplot as plt\n",
    "sb.set()\n",
    "from sklearn.cluster import KMeans\n",
    "from math import atan"
   ]
  },
  {
   "cell_type": "code",
   "execution_count": 176,
   "metadata": {
    "pycharm": {
     "name": "#%%\n"
    }
   },
   "outputs": [
    {
     "name": "stderr",
     "output_type": "stream",
     "text": [
      "Using cache found in /Users/chinmay/.cache/torch/hub/ultralytics_yolov5_master\n",
      "YOLOv5 🚀 2022-10-1 Python-3.10.5 torch-1.12.1 CPU\n",
      "\n",
      "Fusing layers... \n",
      "YOLOv5s summary: 213 layers, 7225885 parameters, 0 gradients\n",
      "Adding AutoShape... \n"
     ]
    }
   ],
   "source": [
    "# training the torch model on the picture\n",
    "model = torch.hub.load('ultralytics/yolov5', 'yolov5s')\n",
    "model.conf = 0.4\n",
    "img = \"img.jpg\"\n",
    "result = model(img)"
   ]
  },
  {
   "cell_type": "code",
   "execution_count": 177,
   "metadata": {
    "collapsed": false,
    "pycharm": {
     "name": "#%%\n"
    }
   },
   "outputs": [
    {
     "data": {
      "text/html": [
       "<div>\n",
       "<style scoped>\n",
       "    .dataframe tbody tr th:only-of-type {\n",
       "        vertical-align: middle;\n",
       "    }\n",
       "\n",
       "    .dataframe tbody tr th {\n",
       "        vertical-align: top;\n",
       "    }\n",
       "\n",
       "    .dataframe thead th {\n",
       "        text-align: right;\n",
       "    }\n",
       "</style>\n",
       "<table border=\"1\" class=\"dataframe\">\n",
       "  <thead>\n",
       "    <tr style=\"text-align: right;\">\n",
       "      <th></th>\n",
       "      <th>X</th>\n",
       "      <th>Y</th>\n",
       "    </tr>\n",
       "  </thead>\n",
       "  <tbody>\n",
       "    <tr>\n",
       "      <th>0</th>\n",
       "      <td>0.61</td>\n",
       "      <td>-0.090383</td>\n",
       "    </tr>\n",
       "    <tr>\n",
       "      <th>1</th>\n",
       "      <td>0.93</td>\n",
       "      <td>-0.141544</td>\n",
       "    </tr>\n",
       "    <tr>\n",
       "      <th>2</th>\n",
       "      <td>0.63</td>\n",
       "      <td>-0.408361</td>\n",
       "    </tr>\n",
       "    <tr>\n",
       "      <th>3</th>\n",
       "      <td>0.13</td>\n",
       "      <td>-0.079438</td>\n",
       "    </tr>\n",
       "    <tr>\n",
       "      <th>4</th>\n",
       "      <td>0.55</td>\n",
       "      <td>-0.288391</td>\n",
       "    </tr>\n",
       "    <tr>\n",
       "      <th>5</th>\n",
       "      <td>0.90</td>\n",
       "      <td>-0.402458</td>\n",
       "    </tr>\n",
       "    <tr>\n",
       "      <th>6</th>\n",
       "      <td>0.07</td>\n",
       "      <td>-0.254354</td>\n",
       "    </tr>\n",
       "    <tr>\n",
       "      <th>7</th>\n",
       "      <td>0.17</td>\n",
       "      <td>-0.200887</td>\n",
       "    </tr>\n",
       "    <tr>\n",
       "      <th>8</th>\n",
       "      <td>0.15</td>\n",
       "      <td>-0.293824</td>\n",
       "    </tr>\n",
       "    <tr>\n",
       "      <th>9</th>\n",
       "      <td>0.32</td>\n",
       "      <td>-0.294220</td>\n",
       "    </tr>\n",
       "  </tbody>\n",
       "</table>\n",
       "</div>"
      ],
      "text/plain": [
       "      X         Y\n",
       "0  0.61 -0.090383\n",
       "1  0.93 -0.141544\n",
       "2  0.63 -0.408361\n",
       "3  0.13 -0.079438\n",
       "4  0.55 -0.288391\n",
       "5  0.90 -0.402458\n",
       "6  0.07 -0.254354\n",
       "7  0.17 -0.200887\n",
       "8  0.15 -0.293824\n",
       "9  0.32 -0.294220"
      ]
     },
     "execution_count": 177,
     "metadata": {},
     "output_type": "execute_result"
    }
   ],
   "source": [
    "#creating a dataframe from the coordinates of the detected people\n",
    "\n",
    "df = pd.DataFrame(columns=['X', 'Y'])\n",
    "for x in result.xyxyn[0].numpy():\n",
    "    if x[-1] == 0:\n",
    "        xmid = ((x[0] + x[2]) / 2).round(2)\n",
    "        ymin = -x[1]\n",
    "        df.loc[len(df.index)] = [xmid, ymin]\n",
    "df"
   ]
  },
  {
   "cell_type": "code",
   "execution_count": null,
   "metadata": {},
   "outputs": [],
   "source": [
    "if len(df.index) == 0:\n",
    "    print(\"There are no clusters in the room\")\n",
    "    actual_clusters = 0"
   ]
  },
  {
   "cell_type": "code",
   "execution_count": 178,
   "metadata": {
    "collapsed": false,
    "pycharm": {
     "name": "#%%\n"
    }
   },
   "outputs": [],
   "source": [
    "# use matplotlib's GUI intrface\n",
    "matplotlib.use(\"TkAgg\")"
   ]
  },
  {
   "cell_type": "code",
   "execution_count": 179,
   "metadata": {
    "collapsed": false,
    "pycharm": {
     "name": "#%%\n"
    }
   },
   "outputs": [],
   "source": [
    "# Visualize the Data\n",
    "f, axes = plt.subplots(1, 1, figsize=(16,8))\n",
    "plt.scatter(x = \"X\", y = \"Y\", data = df)\n",
    "plt.show()"
   ]
  },
  {
   "cell_type": "code",
   "execution_count": 180,
   "metadata": {
    "collapsed": false,
    "pycharm": {
     "name": "#%%\n"
    }
   },
   "outputs": [],
   "source": [
    "# function to find the slope of a curve formed by points in the LSS-cluster graph\n",
    "def findSlope(original_list):\n",
    "    new_list = []\n",
    "    for p in range(len(original_list) - 1):\n",
    "        ss1 = original_list[p]\n",
    "        ss2 = original_list[p + 1]\n",
    "        slope = ss1-ss2\n",
    "        new_list.append(round(atan(slope)*180/3.14, 4))\n",
    "    return new_list\n",
    "\n",
    "# find the array of differences of consecutive elements in a given array\n",
    "def difference(original_array):\n",
    "    new_array = []\n",
    "    for p in range(len(original_array) - 1):\n",
    "        element1 = original_array[p]\n",
    "        element2 = original_array[p + 1]\n",
    "        slope = element1 - element2\n",
    "        new_array.append(round(slope, 4))\n",
    "    new_array.append(original_array[-1])\n",
    "    return new_array"
   ]
  },
  {
   "cell_type": "code",
   "execution_count": 181,
   "metadata": {
    "pycharm": {
     "name": "#%%\n"
    }
   },
   "outputs": [],
   "source": [
    "# Possible number of clusters\n",
    "min_clust = 1\n",
    "max_clust = len(df.index)\n",
    "\n",
    "# Compute Within Cluster Sum of Squares\n",
    "within_ss = []\n",
    "\n",
    "for num_clust in range(min_clust, max_clust + 1):\n",
    "    kmeans = KMeans(n_clusters=num_clust)\n",
    "    kmeans.fit(df)\n",
    "    within_ss.append(kmeans.inertia_)\n",
    "\n",
    "slopes = findSlope(within_ss)\n",
    "slopes = difference(slopes)\n",
    "\n",
    "#setting default value of the number of clusters\n",
    "actual_clusters = 1\n",
    "\n",
    "for i in range(len(slopes)):\n",
    "    if slopes[i] < slopes[0]/10:\n",
    "        actual_clusters = i+1\n",
    "        break\n",
    "\n",
    "\n",
    "# Plot Within SS vs Number of Clusters\n",
    "f, axes = plt.subplots(1, 1, figsize=(16, 4))\n",
    "plt.plot(range(min_clust, max_clust + 1), within_ss)\n",
    "plt.xlabel('Number of Clusters')\n",
    "plt.ylabel('Within Cluster Sum of Squares')\n",
    "plt.xticks(np.arange(min_clust, max_clust + 1, 1.0))\n",
    "plt.grid(which='major', axis='y')\n",
    "plt.show()"
   ]
  },
  {
   "cell_type": "code",
   "execution_count": 182,
   "metadata": {
    "collapsed": false,
    "pycharm": {
     "name": "#%%\n"
    }
   },
   "outputs": [
    {
     "name": "stdout",
     "output_type": "stream",
     "text": [
      "Cluster 0:\t0.92\t-0.27\t\n",
      "Cluster 1:\t0.17\t-0.22\t\n",
      "Cluster 2:\t0.6\t-0.26\t\n",
      "\n",
      "Within Cluster Sum of Squares : 0.15616298057435996\n"
     ]
    }
   ],
   "source": [
    "num_clust = actual_clusters\n",
    "\n",
    "# Create Clustering Model using KMeans\n",
    "kmeans = KMeans(n_clusters = num_clust)\n",
    "\n",
    "# Fit the Clustering Model on the Data\n",
    "kmeans.fit(df)\n",
    "\n",
    "# Print the Cluster Centers\n",
    "for i, center in enumerate(kmeans.cluster_centers_):\n",
    "    print(\"Cluster\", i, end=\":\\t\")\n",
    "    for coord in center:\n",
    "        print(round(coord, 2), end=\"\\t\")\n",
    "    print()\n",
    "print()\n",
    "\n",
    "# Print the Within Cluster Sum of Squares\n",
    "print(\"Within Cluster Sum of Squares :\", kmeans.inertia_, end=\"\\n\")\n",
    "\n",
    "# Predict the Cluster Labels\n",
    "labels = kmeans.predict(df)\n",
    "\n",
    "# Append Labels to the Data\n",
    "df_labeled = df.copy()\n",
    "df_labeled[\"Cluster\"] = pd.Categorical(labels)\n",
    "\n",
    "# Summary of the Cluster Labels\n",
    "sb.countplot(x=df_labeled[\"Cluster\"])\n",
    "plt.show()"
   ]
  },
  {
   "cell_type": "code",
   "execution_count": 183,
   "metadata": {
    "pycharm": {
     "name": "#%%\n"
    }
   },
   "outputs": [
    {
     "name": "stdout",
     "output_type": "stream",
     "text": [
      "Cluster 0:\t0.6\t-0.26\t\n",
      "Cluster 1:\t0.17\t-0.22\t\n",
      "Cluster 2:\t0.92\t-0.27\t\n",
      "\n"
     ]
    }
   ],
   "source": [
    "num_clust = actual_clusters\n",
    "\n",
    "# Create Clustering Model using KMeans\n",
    "kmeans = KMeans(n_clusters=num_clust)\n",
    "\n",
    "# Fit the Clustering Model on the Data\n",
    "kmeans.fit(df)\n",
    "\n",
    "# Print the Cluster Centers\n",
    "for i, center in enumerate(kmeans.cluster_centers_):\n",
    "    print(\"Cluster\", i, end=\":\\t\")\n",
    "    for coord in center:\n",
    "        print(round(coord, 2), end=\"\\t\")\n",
    "    print()\n",
    "print()\n",
    "\n",
    "# Predict the Cluster Labels\n",
    "labels = kmeans.predict(df)\n",
    "\n",
    "# Append Labels to the Data\n",
    "df_labeled = df.copy()\n",
    "df_labeled[\"Cluster\"] = pd.Categorical(labels)\n",
    "\n",
    "# Summary of the Cluster Labels\n",
    "sb.countplot(x=df_labeled[\"Cluster\"])\n",
    "plt.show()"
   ]
  },
  {
   "cell_type": "code",
   "execution_count": 184,
   "metadata": {
    "collapsed": false,
    "pycharm": {
     "name": "#%%\n"
    }
   },
   "outputs": [],
   "source": [
    "# Visualize the Clusters in the Data\n",
    "f, axes = plt.subplots(1, 1, figsize=(16,8))\n",
    "plt.scatter(x = \"X\", y = \"Y\", c =\"Cluster\", cmap = 'viridis', data = df_labeled)\n",
    "plt.show()"
   ]
  }
 ],
 "metadata": {
  "kernelspec": {
   "display_name": "Python 3",
   "language": "python",
   "name": "python3"
  },
  "language_info": {
   "codemirror_mode": {
    "name": "ipython",
    "version": 3
   },
   "file_extension": ".py",
   "mimetype": "text/x-python",
   "name": "python",
   "nbconvert_exporter": "python",
   "pygments_lexer": "ipython3",
   "version": "3.8.5"
  }
 },
 "nbformat": 4,
 "nbformat_minor": 2
}
