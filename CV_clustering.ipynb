{
 "cells": [
  {
   "cell_type": "code",
   "execution_count": 175,
   "metadata": {
    "pycharm": {
     "name": "#%%\n"
    }
   },
   "outputs": [],
   "source": [
    "import matplotlib\n",
    "import numpy as np\n",
    "import pandas as pd\n",
    "import seaborn as sb\n",
    "import torch\n",
    "import matplotlib.pyplot as plt\n",
    "sb.set()\n",
    "from sklearn.cluster import KMeans\n",
    "from math import atan"
   ]
  },
  {
   "cell_type": "code",
   "execution_count": 176,
   "metadata": {
    "pycharm": {
     "name": "#%%\n"
    }
   },
   "outputs": [
    {
     "name": "stderr",
     "output_type": "stream",
     "text": [
      "Using cache found in /Users/chinmay/.cache/torch/hub/ultralytics_yolov5_master\n",
      "YOLOv5 🚀 2022-10-1 Python-3.10.5 torch-1.12.1 CPU\n",
      "\n",
      "Fusing layers... \n",
      "YOLOv5s summary: 213 layers, 7225885 parameters, 0 gradients\n",
      "Adding AutoShape... \n"
     ]
    }
   ],
   "source": [
    "# training the torch model on the picture\n",
    "model = torch.hub.load('ultralytics/yolov5', 'yolov5s')\n",
    "model.conf = 0.4\n",
    "img = \"img.jpg\"\n",
    "result = model(img)"
   ]
  },
  {
   "cell_type": "code",
   "execution_count": 177,
   "outputs": [
    {
     "data": {
      "text/plain": "      X         Y\n0  0.61 -0.090383\n1  0.93 -0.141544\n2  0.63 -0.408361\n3  0.13 -0.079438\n4  0.55 -0.288391\n5  0.90 -0.402458\n6  0.07 -0.254354\n7  0.17 -0.200887\n8  0.15 -0.293824\n9  0.32 -0.294220",
      "text/html": "<div>\n<style scoped>\n    .dataframe tbody tr th:only-of-type {\n        vertical-align: middle;\n    }\n\n    .dataframe tbody tr th {\n        vertical-align: top;\n    }\n\n    .dataframe thead th {\n        text-align: right;\n    }\n</style>\n<table border=\"1\" class=\"dataframe\">\n  <thead>\n    <tr style=\"text-align: right;\">\n      <th></th>\n      <th>X</th>\n      <th>Y</th>\n    </tr>\n  </thead>\n  <tbody>\n    <tr>\n      <th>0</th>\n      <td>0.61</td>\n      <td>-0.090383</td>\n    </tr>\n    <tr>\n      <th>1</th>\n      <td>0.93</td>\n      <td>-0.141544</td>\n    </tr>\n    <tr>\n      <th>2</th>\n      <td>0.63</td>\n      <td>-0.408361</td>\n    </tr>\n    <tr>\n      <th>3</th>\n      <td>0.13</td>\n      <td>-0.079438</td>\n    </tr>\n    <tr>\n      <th>4</th>\n      <td>0.55</td>\n      <td>-0.288391</td>\n    </tr>\n    <tr>\n      <th>5</th>\n      <td>0.90</td>\n      <td>-0.402458</td>\n    </tr>\n    <tr>\n      <th>6</th>\n      <td>0.07</td>\n      <td>-0.254354</td>\n    </tr>\n    <tr>\n      <th>7</th>\n      <td>0.17</td>\n      <td>-0.200887</td>\n    </tr>\n    <tr>\n      <th>8</th>\n      <td>0.15</td>\n      <td>-0.293824</td>\n    </tr>\n    <tr>\n      <th>9</th>\n      <td>0.32</td>\n      <td>-0.294220</td>\n    </tr>\n  </tbody>\n</table>\n</div>"
     },
     "execution_count": 177,
     "metadata": {},
     "output_type": "execute_result"
    }
   ],
   "source": [
    "#creating a dataframe from the coordinates of the detected people\n",
    "\n",
    "df = pd.DataFrame(columns=['X', 'Y'])\n",
    "for x in result.xyxyn[0].numpy():\n",
    "    if x[-1] == 0:\n",
    "        xmid = ((x[0] + x[2]) / 2).round(2)\n",
    "        ymin = -x[1]\n",
    "        df.loc[len(df.index)] = [xmid, ymin]\n",
    "df"
   ],
   "metadata": {
    "collapsed": false,
    "pycharm": {
     "name": "#%%\n"
    }
   }
  },
  {
   "cell_type": "code",
   "execution_count": 178,
   "outputs": [],
   "source": [
    "# use matplotlib's GUI intrface\n",
    "matplotlib.use(\"TkAgg\")"
   ],
   "metadata": {
    "collapsed": false,
    "pycharm": {
     "name": "#%%\n"
    }
   }
  },
  {
   "cell_type": "code",
   "execution_count": 179,
   "outputs": [],
   "source": [
    "# Visualize the Data\n",
    "f, axes = plt.subplots(1, 1, figsize=(16,8))\n",
    "plt.scatter(x = \"X\", y = \"Y\", data = df)\n",
    "plt.show()"
   ],
   "metadata": {
    "collapsed": false,
    "pycharm": {
     "name": "#%%\n"
    }
   }
  },
  {
   "cell_type": "code",
   "execution_count": 180,
   "outputs": [],
   "source": [
    "# function to find the slope of a curve formed by points in the LSS-cluster graph\n",
    "def findSlope(original_list):\n",
    "    new_list = []\n",
    "    for p in range(len(original_list) - 1):\n",
    "        ss1 = original_list[p]\n",
    "        ss2 = original_list[p + 1]\n",
    "        slope = ss1-ss2\n",
    "        new_list.append(round(atan(slope)*180/3.14, 4))\n",
    "    return new_list\n",
    "\n",
    "# find the array of differences of consecutive elements in a given array\n",
    "def difference(original_array):\n",
    "    new_array = []\n",
    "    for p in range(len(original_array) - 1):\n",
    "        element1 = original_array[p]\n",
    "        element2 = original_array[p + 1]\n",
    "        slope = element1 - element2\n",
    "        new_array.append(round(slope, 4))\n",
    "    new_array.append(original_array[-1])\n",
    "    return new_array"
   ],
   "metadata": {
    "collapsed": false,
    "pycharm": {
     "name": "#%%\n"
    }
   }
  },
  {
   "cell_type": "code",
   "execution_count": 181,
   "metadata": {
    "pycharm": {
     "name": "#%%\n"
    }
   },
   "outputs": [],
   "source": [
    "# Possible number of clusters\n",
    "min_clust = 1\n",
    "max_clust = len(df.index)\n",
    "\n",
    "# Compute Within Cluster Sum of Squares\n",
    "within_ss = []\n",
    "\n",
    "for num_clust in range(min_clust, max_clust + 1):\n",
    "    kmeans = KMeans(n_clusters=num_clust)\n",
    "    kmeans.fit(df)\n",
    "    within_ss.append(kmeans.inertia_)\n",
    "\n",
    "slopes = findSlope(within_ss)\n",
    "slopes = difference(slopes)\n",
    "\n",
    "#setting default value of the number of clusters\n",
    "actual_clusters = 1\n",
    "\n",
    "for i in range(len(slopes)):\n",
    "    if slopes[i] < slopes[0]/10:\n",
    "        actual_clusters = i+1\n",
    "        break\n",
    "\n",
    "\n",
    "# Plot Within SS vs Number of Clusters\n",
    "f, axes = plt.subplots(1, 1, figsize=(16, 4))\n",
    "plt.plot(range(min_clust, max_clust + 1), within_ss)\n",
    "plt.xlabel('Number of Clusters')\n",
    "plt.ylabel('Within Cluster Sum of Squares')\n",
    "plt.xticks(np.arange(min_clust, max_clust + 1, 1.0))\n",
    "plt.grid(which='major', axis='y')\n",
    "plt.show()"
   ]
  },
  {
   "cell_type": "code",
   "execution_count": 182,
   "outputs": [
    {
     "name": "stdout",
     "output_type": "stream",
     "text": [
      "Cluster 0:\t0.92\t-0.27\t\n",
      "Cluster 1:\t0.17\t-0.22\t\n",
      "Cluster 2:\t0.6\t-0.26\t\n",
      "\n",
      "Within Cluster Sum of Squares : 0.15616298057435996\n"
     ]
    }
   ],
   "source": [
    "num_clust = actual_clusters\n",
    "\n",
    "# Create Clustering Model using KMeans\n",
    "kmeans = KMeans(n_clusters = num_clust)\n",
    "\n",
    "# Fit the Clustering Model on the Data\n",
    "kmeans.fit(df)\n",
    "\n",
    "# Print the Cluster Centers\n",
    "for i, center in enumerate(kmeans.cluster_centers_):\n",
    "    print(\"Cluster\", i, end=\":\\t\")\n",
    "    for coord in center:\n",
    "        print(round(coord, 2), end=\"\\t\")\n",
    "    print()\n",
    "print()\n",
    "\n",
    "# Print the Within Cluster Sum of Squares\n",
    "print(\"Within Cluster Sum of Squares :\", kmeans.inertia_, end=\"\\n\")\n",
    "\n",
    "# Predict the Cluster Labels\n",
    "labels = kmeans.predict(df)\n",
    "\n",
    "# Append Labels to the Data\n",
    "df_labeled = df.copy()\n",
    "df_labeled[\"Cluster\"] = pd.Categorical(labels)\n",
    "\n",
    "# Summary of the Cluster Labels\n",
    "sb.countplot(x=df_labeled[\"Cluster\"])\n",
    "plt.show()"
   ],
   "metadata": {
    "collapsed": false,
    "pycharm": {
     "name": "#%%\n"
    }
   }
  },
  {
   "cell_type": "code",
   "execution_count": 183,
   "metadata": {
    "pycharm": {
     "name": "#%%\n"
    }
   },
   "outputs": [
    {
     "name": "stdout",
     "output_type": "stream",
     "text": [
      "Cluster 0:\t0.6\t-0.26\t\n",
      "Cluster 1:\t0.17\t-0.22\t\n",
      "Cluster 2:\t0.92\t-0.27\t\n",
      "\n"
     ]
    }
   ],
   "source": [
    "num_clust = actual_clusters\n",
    "\n",
    "# Create Clustering Model using KMeans\n",
    "kmeans = KMeans(n_clusters=num_clust)\n",
    "\n",
    "# Fit the Clustering Model on the Data\n",
    "kmeans.fit(df)\n",
    "\n",
    "# Print the Cluster Centers\n",
    "for i, center in enumerate(kmeans.cluster_centers_):\n",
    "    print(\"Cluster\", i, end=\":\\t\")\n",
    "    for coord in center:\n",
    "        print(round(coord, 2), end=\"\\t\")\n",
    "    print()\n",
    "print()\n",
    "\n",
    "# Predict the Cluster Labels\n",
    "labels = kmeans.predict(df)\n",
    "\n",
    "# Append Labels to the Data\n",
    "df_labeled = df.copy()\n",
    "df_labeled[\"Cluster\"] = pd.Categorical(labels)\n",
    "\n",
    "# Summary of the Cluster Labels\n",
    "sb.countplot(x=df_labeled[\"Cluster\"])\n",
    "plt.show()"
   ]
  },
  {
   "cell_type": "code",
   "execution_count": 184,
   "outputs": [],
   "source": [
    "# Visualize the Clusters in the Data\n",
    "f, axes = plt.subplots(1, 1, figsize=(16,8))\n",
    "plt.scatter(x = \"X\", y = \"Y\", c =\"Cluster\", cmap = 'viridis', data = df_labeled)\n",
    "plt.show()"
   ],
   "metadata": {
    "collapsed": false,
    "pycharm": {
     "name": "#%%\n"
    }
   }
  },
  {
   "cell_type": "code",
   "execution_count": null,
   "outputs": [],
   "source": [
    "# data we would have pre-surveyed and added to a database:\n",
    "# the below data is an example\n",
    "# the number of people in each room will be found using computer vision as shown in CV_clustering.ipynb\n",
    "room_names = {1001: \"TR +27\", 1002: \"TR +28\", 1003: \"TR +29\", 1004: \"TR +30\", 1005: \"TR +31\"}\n",
    "data_columns = {\"Tables\": 0, \"People\": 1, \"booked\": 2}\n",
    "data = {1001: [5, 12, 0], 1002: [5, 2, 0], 1003: [7, 16, 1], 1004: [4, 4, 0], 1005: [6, 9, 0, 0, 0]}\n",
    "room_ids = [1001, 1002, 1003, 1004, 1005]\n",
    "\n",
    "for room in room_ids:\n",
    "    effective_people = 0\n",
    "    people = data[room][data_columns[\"People\"]]\n",
    "    booked = data[room][data_columns[\"booked\"]]\n",
    "    if booked:\n",
    "        effective_people = 100\n",
    "    else:\n",
    "\n",
    "\n",
    "    crowd_data[room] = effective_people\n"
   ],
   "metadata": {
    "collapsed": false,
    "pycharm": {
     "name": "#%%\n"
    }
   }
  }
 ],
 "metadata": {
  "kernelspec": {
   "display_name": "Python 3",
   "language": "python",
   "name": "python3"
  },
  "language_info": {
   "codemirror_mode": {
    "name": "ipython",
    "version": 3
   },
   "file_extension": ".py",
   "mimetype": "text/x-python",
   "name": "python",
   "nbconvert_exporter": "python",
   "pygments_lexer": "ipython3",
   "version": "3.8.5"
  }
 },
 "nbformat": 4,
 "nbformat_minor": 2
}